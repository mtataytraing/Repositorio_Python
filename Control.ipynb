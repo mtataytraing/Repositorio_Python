{
 "cells": [
  {
   "cell_type": "code",
   "execution_count": 1,
   "metadata": {},
   "outputs": [
    {
     "name": "stdout",
     "output_type": "stream",
     "text": [
      "no se cumple\n"
     ]
    }
   ],
   "source": [
    "n=1\n",
    "if n>=2:\n",
    "    print (\"Se cumple condición\")\n",
    "else:\n",
    "    print (\"no se cumple\")"
   ]
  },
  {
   "cell_type": "code",
   "execution_count": null,
   "metadata": {},
   "outputs": [
    {
     "name": "stdout",
     "output_type": "stream",
     "text": [
      "no se cumple\n"
     ]
    }
   ],
   "source": [
    "n=9\n",
    "if n>=2 and n<5:\n",
    "    print (\"Se cumple condición\")\n",
    "elif n>=5 and n<7:\n",
    "    print (\" Entre 5 y 7\")\n",
    "else:\n",
    "    print (\"no se cumple\")"
   ]
  },
  {
   "cell_type": "code",
   "execution_count": 8,
   "metadata": {},
   "outputs": [
    {
     "name": "stdout",
     "output_type": "stream",
     "text": [
      "1\n",
      "2\n",
      "3\n",
      "4\n"
     ]
    }
   ],
   "source": [
    "l1=[1,2,3,4]\n",
    "for n in l1:\n",
    "    print (n)\n"
   ]
  },
  {
   "cell_type": "code",
   "execution_count": 9,
   "metadata": {},
   "outputs": [
    {
     "name": "stdout",
     "output_type": "stream",
     "text": [
      "1\n",
      "2\n",
      "3\n",
      "4\n"
     ]
    }
   ],
   "source": [
    "l1=[1,2,3,4]\n",
    "t1=(1,2,3,4)\n",
    "for n in l1:\n",
    "    print (n)"
   ]
  },
  {
   "cell_type": "code",
   "execution_count": 12,
   "metadata": {},
   "outputs": [
    {
     "name": "stdout",
     "output_type": "stream",
     "text": [
      "a 1\n",
      "b 2\n"
     ]
    }
   ],
   "source": [
    "d1={\"a\":1,\"b\":2}\n",
    "for key, val in d1.items():\n",
    "    print (key,val)\n",
    "   "
   ]
  },
  {
   "cell_type": "code",
   "execution_count": 13,
   "metadata": {},
   "outputs": [
    {
     "name": "stdout",
     "output_type": "stream",
     "text": [
      "a 1\n",
      "b 2\n"
     ]
    }
   ],
   "source": [
    "d1={\"a\":1,\"b\":2}\n",
    "for n, m in d1.items():\n",
    "    print (n,m)"
   ]
  },
  {
   "cell_type": "code",
   "execution_count": 14,
   "metadata": {},
   "outputs": [
    {
     "name": "stdout",
     "output_type": "stream",
     "text": [
      "1\n",
      "2\n"
     ]
    }
   ],
   "source": [
    "d1={\"a\":1,\"b\":2}\n",
    "for n, m in d1.items():\n",
    "    print (m)"
   ]
  },
  {
   "cell_type": "code",
   "execution_count": 15,
   "metadata": {},
   "outputs": [
    {
     "name": "stdout",
     "output_type": "stream",
     "text": [
      "a\n",
      "b\n"
     ]
    }
   ],
   "source": [
    "d1={\"a\":1,\"b\":2}\n",
    "for n in d1:\n",
    "    print (n)"
   ]
  },
  {
   "cell_type": "code",
   "execution_count": 18,
   "metadata": {},
   "outputs": [
    {
     "name": "stdout",
     "output_type": "stream",
     "text": [
      "0\n",
      "1\n",
      "2\n",
      "3\n",
      "4\n",
      "5\n",
      "6\n",
      "7\n",
      "8\n",
      "9\n"
     ]
    }
   ],
   "source": [
    "contador=0\n",
    "while contador<10:\n",
    "    print (contador)\n",
    "    contador +=1 #contador=contador+1"
   ]
  },
  {
   "cell_type": "code",
   "execution_count": 33,
   "metadata": {},
   "outputs": [
    {
     "name": "stdout",
     "output_type": "stream",
     "text": [
      "1\n",
      "2\n",
      "3\n",
      "4\n",
      "5\n",
      "6\n",
      "7\n",
      "8\n",
      "9\n",
      "10\n"
     ]
    }
   ],
   "source": [
    "contador=0\n",
    "while contador<10:\n",
    "    contador +=1 #contador=contador+1\n",
    "    print (contador)"
   ]
  },
  {
   "cell_type": "code",
   "execution_count": null,
   "metadata": {},
   "outputs": [
    {
     "name": "stdout",
     "output_type": "stream",
     "text": [
      "1\n",
      "2\n",
      "3\n",
      "4\n",
      "10\n"
     ]
    }
   ],
   "source": [
    "l1=[1,2,3,4,10]\n",
    "cont=0\n",
    "while cont < len(l1):\n",
    "    print (l1[cont])   #Imprime el elemento de la lista en la POSICIÓN cont.\n",
    "    cont +=1\n"
   ]
  },
  {
   "cell_type": "code",
   "execution_count": 27,
   "metadata": {},
   "outputs": [
    {
     "name": "stdout",
     "output_type": "stream",
     "text": [
      "dict_items([('a', 1), ('b', 2)])\n"
     ]
    }
   ],
   "source": [
    "d1={\"a\":1,\"b\":2}\n",
    "l1= d1.items()\n",
    "print (l1)\n"
   ]
  },
  {
   "cell_type": "code",
   "execution_count": 30,
   "metadata": {},
   "outputs": [
    {
     "data": {
      "text/plain": [
       "[('a', 1), ('b', 2)]"
      ]
     },
     "execution_count": 30,
     "metadata": {},
     "output_type": "execute_result"
    }
   ],
   "source": [
    "d1={\"a\":1,\"b\":2} #entrada de un diccionario\n",
    "l1= list(d1.items()) #convertir el diccionario en una lista\n",
    "l1"
   ]
  },
  {
   "cell_type": "code",
   "execution_count": 38,
   "metadata": {},
   "outputs": [
    {
     "name": "stdout",
     "output_type": "stream",
     "text": [
      "a 1\n",
      "b 2\n"
     ]
    }
   ],
   "source": [
    "d1={\"a\":1,\"b\":2} #entrada de un diccionario\n",
    "l1= list(d1.items()) #convertir el diccionario en una lista\n",
    "cont=0\n",
    "while cont <len(l1):\n",
    "    n,m=l1[cont]\n",
    "    print (n,m)  #Imprime cada par clave-valor\n",
    "    cont +=1"
   ]
  },
  {
   "cell_type": "code",
   "execution_count": 4,
   "metadata": {},
   "outputs": [
    {
     "name": "stdout",
     "output_type": "stream",
     "text": [
      "has escogido 1\n",
      "has escogido 1\n",
      "has escogido 2\n",
      "has escogido 3\n",
      "has escogido 2\n",
      "has escogido 3\n",
      "has escogido 4\n",
      "Fin\n"
     ]
    }
   ],
   "source": [
    "opción =0\n",
    "while opción !=4:\n",
    "    opción =int(input(\"Escoge entre 1,2,3,4\"))\n",
    "    print (\"has escogido\", opción)\n",
    "    if opción ==4:\n",
    "        print (\"Fin\")"
   ]
  },
  {
   "cell_type": "code",
   "execution_count": 6,
   "metadata": {},
   "outputs": [
    {
     "data": {
      "text/plain": [
       "[('a', 1), ('b', 2), ('c', 3)]"
      ]
     },
     "execution_count": 6,
     "metadata": {},
     "output_type": "execute_result"
    }
   ],
   "source": [
    "d1={\"a\":1,\"b\":2,\"c\":3}\n",
    "l1=list(d1.items())\n",
    "l1"
   ]
  },
  {
   "cell_type": "code",
   "execution_count": 12,
   "metadata": {},
   "outputs": [
    {
     "name": "stdout",
     "output_type": "stream",
     "text": [
      "('a', 1)\n",
      "('b', 2)\n",
      "('c', 3)\n"
     ]
    }
   ],
   "source": [
    "d1={\"a\":1,\"b\":2,\"c\":3}\n",
    "l1=list(d1.items())\n",
    "for n in l1:\n",
    "    print (n)"
   ]
  },
  {
   "cell_type": "code",
   "execution_count": 13,
   "metadata": {},
   "outputs": [
    {
     "name": "stdout",
     "output_type": "stream",
     "text": [
      "('a', 1)\n",
      "('a', 1)\n",
      "('a', 1)\n",
      "('b', 2)\n",
      "('b', 2)\n",
      "('b', 2)\n",
      "('c', 3)\n",
      "('c', 3)\n",
      "('c', 3)\n"
     ]
    }
   ],
   "source": [
    "d1={\"a\":1,\"b\":2,\"c\":3}\n",
    "l1=list(d1.items())\n",
    "for n in l1:\n",
    "    print (n)\n",
    "    for m in n:\n",
    "        print(n)"
   ]
  },
  {
   "cell_type": "code",
   "execution_count": 14,
   "metadata": {},
   "outputs": [
    {
     "name": "stdout",
     "output_type": "stream",
     "text": [
      "('a', 1)\n",
      "a\n",
      "1\n",
      "('b', 2)\n",
      "b\n",
      "2\n",
      "('c', 3)\n",
      "c\n",
      "3\n"
     ]
    }
   ],
   "source": [
    "d1={\"a\":1,\"b\":2,\"c\":3}\n",
    "l1=list(d1.items())\n",
    "for n in l1:\n",
    "    print (n)\n",
    "    for m in n:\n",
    "        print(m)"
   ]
  }
 ],
 "metadata": {
  "kernelspec": {
   "display_name": "Python 3 (ipykernel)",
   "language": "python",
   "name": "python3"
  },
  "language_info": {
   "codemirror_mode": {
    "name": "ipython",
    "version": 3
   },
   "file_extension": ".py",
   "mimetype": "text/x-python",
   "name": "python",
   "nbconvert_exporter": "python",
   "pygments_lexer": "ipython3",
   "version": "3.10.11"
  }
 },
 "nbformat": 4,
 "nbformat_minor": 2
}
