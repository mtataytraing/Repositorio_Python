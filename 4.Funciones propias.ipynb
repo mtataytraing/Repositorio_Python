{
 "cells": [
  {
   "cell_type": "code",
   "execution_count": 6,
   "metadata": {},
   "outputs": [
    {
     "name": "stdout",
     "output_type": "stream",
     "text": [
      "Hola\n"
     ]
    }
   ],
   "source": [
    "def imprime():\n",
    "    print(\"Hola\")\n",
    "\n",
    "imprime ()\n",
    "\n"
   ]
  },
  {
   "cell_type": "code",
   "execution_count": 7,
   "metadata": {},
   "outputs": [
    {
     "name": "stdout",
     "output_type": "stream",
     "text": [
      "Hola\n",
      "Hola2\n"
     ]
    }
   ],
   "source": [
    "def imprime(texto):\n",
    "    print(texto)\n",
    "\n",
    "imprime (\"Hola\")\n",
    "imprime (\"Hola2\")"
   ]
  },
  {
   "cell_type": "code",
   "execution_count": null,
   "metadata": {},
   "outputs": [],
   "source": [
    "def imprime(texto):\n",
    "    print(texto)\n",
    "\n",
    "imprime (\"Hola\")\n",
    "imprime (\"Hola2\")"
   ]
  },
  {
   "cell_type": "code",
   "execution_count": 12,
   "metadata": {},
   "outputs": [
    {
     "name": "stdout",
     "output_type": "stream",
     "text": [
      "80.0\n",
      "<function calculo_comision at 0x7ff9e0189870>\n"
     ]
    }
   ],
   "source": [
    "def calculo_comision (ventas, proc):\n",
    "    comision=sum(ventas)*porc/100\n",
    "    print(comision)\n",
    "    return\n",
    "ventas_reales =[100, 300, 400]\n",
    "porc=10\n",
    "\n",
    "calculo_comision(ventas_reales,porc)\n",
    "print (calculo_comision)"
   ]
  },
  {
   "cell_type": "code",
   "execution_count": 24,
   "metadata": {},
   "outputs": [
    {
     "name": "stdout",
     "output_type": "stream",
     "text": [
      "<function calculo_comision at 0x7ff9e018b1c0>\n"
     ]
    }
   ],
   "source": [
    "def calculo_comision (ventas, proc):\n",
    "    comision=sum(ventas)*porc/100\n",
    "    print(comision)\n",
    "    return\n",
    "ventas =[100, 300, 400]\n",
    "proc=10\n",
    "print (calculo_comision)"
   ]
  },
  {
   "cell_type": "code",
   "execution_count": 21,
   "metadata": {},
   "outputs": [
    {
     "name": "stdout",
     "output_type": "stream",
     "text": [
      "80.0\n"
     ]
    }
   ],
   "source": [
    "def calculo_comision (ventas, proc):\n",
    "    comision=sum(ventas)*porc/100\n",
    "    print(comision)\n",
    "    return\n",
    "ventas_tot =[100, 300, 400]\n",
    "porcentaje=10\n",
    "\n",
    "calculo_comision(ventas_tot,porcentaje)"
   ]
  },
  {
   "cell_type": "code",
   "execution_count": 26,
   "metadata": {},
   "outputs": [
    {
     "name": "stdout",
     "output_type": "stream",
     "text": [
      "80.0\n"
     ]
    }
   ],
   "source": [
    "def calculo_comision (ventas, proc):\n",
    "    comision=sum(ventas)*porc/100\n",
    "    print(comision)\n",
    "    return\n",
    "ventas =[100, 300, 400]\n",
    "proc=10\n",
    "\n",
    "cálculo_comision (ventas, proc)\n"
   ]
  },
  {
   "cell_type": "code",
   "execution_count": null,
   "metadata": {},
   "outputs": [],
   "source": [
    "\n",
    "\n",
    "# Dada una lista de alumnos, donde cada alumno es un dictionario con \"nombre, direccion y edad\"; implementa una solución basada en funciones que transforme la letra intermedia (o más cercana al centro) del nombre de cada alumno en mayúscula y el resto en minúsculas.\n",
    "- Dada una lista de alumnos anterior, donde cada alumno es un dictionario con nombre, direccion y edad; implementa una solución basada en funciones que transforme la lista en dos listas de tuplas del tipo (nombre, direccion), (nombre, edad).\n",
    "- Escribe una expresión lambda que eleve al cubo todos los números de la lista siguiente: [1,2,3,4,5,6,7,8], usando la función map"
   ]
  }
 ],
 "metadata": {
  "kernelspec": {
   "display_name": "Python 3.8 - AzureML",
   "language": "python",
   "name": "python38-azureml"
  }
 },
 "nbformat": 4,
 "nbformat_minor": 2
}
