{
 "cells": [
  {
   "cell_type": "code",
   "execution_count": null,
   "metadata": {},
   "outputs": [],
   "source": [
    "## EJERCICIOS 6\n",
    "#- Procesa el fichero notas.csv para completarlo con la nota media y varianza de cada alumno, usando funciones estadísticas. Luego actualiza el fichero original.\n",
    "\t+ \n",
    "#- Escribe una función que copie el contenido de un archivo textual \"{ruta_a}/sample.txt\" en otro \"{ruta_a}/new.txt\". Luego muestra el contenido de new.txt línea por línea. Por último, elimina new.txt\n"
   ]
  }
 ],
 "metadata": {
  "kernelspec": {
   "display_name": "Python 3 (ipykernel)",
   "language": "python",
   "name": "python3"
  }
 },
 "nbformat": 4,
 "nbformat_minor": 2
}
