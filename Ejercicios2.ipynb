{
 "cells": [
  {
   "cell_type": "code",
   "execution_count": null,
   "metadata": {},
   "outputs": [],
   "source": [
    " # 1. Escribe un programa que almacene internamente una lista de números, \n",
    " # pida al usuario un número e indique si está en la lista con un True o False."
   ]
  },
  {
   "cell_type": "code",
   "execution_count": 2,
   "metadata": {},
   "outputs": [
    {
     "data": {
      "text/plain": [
       "False"
      ]
     },
     "execution_count": 2,
     "metadata": {},
     "output_type": "execute_result"
    }
   ],
   "source": [
    "l1=[1,2,3,4,5,6]\n",
    "l2=int(input(\"Escribe un número:\"))\n",
    "l2 in l1"
   ]
  },
  {
   "cell_type": "code",
   "execution_count": 8,
   "metadata": {},
   "outputs": [
    {
     "name": "stdout",
     "output_type": "stream",
     "text": [
      "Debe ser un número!\n"
     ]
    }
   ],
   "source": [
    "# Número en lista\n",
    "list1 = [1,2,3,4,5]\n",
    "try:\n",
    "    val = int(input(\"num:\"))\n",
    "    print('Está:',val in list1)\n",
    "except:\n",
    "    print('Debe ser un número!')"
   ]
  },
  {
   "cell_type": "code",
   "execution_count": null,
   "metadata": {},
   "outputs": [],
   "source": [
    "#2 Calcular el sueldo mensual de un operario conociendo \n",
    "# la cantidad de horas trabajadas y el valor por hora. \n",
    "# Estos valores se deberán solicitar al usuario."
   ]
  },
  {
   "cell_type": "code",
   "execution_count": 10,
   "metadata": {},
   "outputs": [
    {
     "name": "stdout",
     "output_type": "stream",
     "text": [
      "El sueldo mensual es: 8000\n"
     ]
    }
   ],
   "source": [
    "horas=int(input(\"Indica las horas trabajadas durante el mes\"))\n",
    "horashombre=int(input(\"Indica a continuación el coste/hora\"))\n",
    "Sueldomensual=horas*horashombre\n",
    "print(\"El sueldo mensual es:\", Sueldomensual)"
   ]
  },
  {
   "cell_type": "code",
   "execution_count": 11,
   "metadata": {},
   "outputs": [
    {
     "name": "stdout",
     "output_type": "stream",
     "text": [
      "Sueldo medio mensual: 166.66666666666666\n"
     ]
    }
   ],
   "source": [
    "# Sueldo medio\n",
    "try:\n",
    "    horas = int(input('Horas:'))\n",
    "    pph = float(input('pph:'))\n",
    "    sa = horas * pph\n",
    "    smm = sa / 12\n",
    "    print('Sueldo medio mensual:', smm)\n",
    "except:\n",
    "    print('Deben ser números!')"
   ]
  },
  {
   "cell_type": "code",
   "execution_count": null,
   "metadata": {},
   "outputs": [],
   "source": [
    "#3 Dados N números, separados por \",\" ingresados por el usuario en una sola entrada, \n",
    "# identifica cuál es el mayor de todos."
   ]
  },
  {
   "cell_type": "code",
   "execution_count": 31,
   "metadata": {},
   "outputs": [
    {
     "name": "stdout",
     "output_type": "stream",
     "text": [
      "6 ['1', ',', '1', '0', ',', '3', ',', '6', '6']\n"
     ]
    }
   ],
   "source": [
    "l1=list(input(\"ingresa numeros\"))\n",
    "print (max(l1),l1)\n",
    "\n"
   ]
  },
  {
   "cell_type": "code",
   "execution_count": 2,
   "metadata": {},
   "outputs": [
    {
     "name": "stdout",
     "output_type": "stream",
     "text": [
      "9 ['1', '2', '44', '9']\n"
     ]
    }
   ],
   "source": [
    "l1=(input(\"ingresa numeros\"))\n",
    "l2=l1.split(\",\")\n",
    "print (max(l2),l2)"
   ]
  },
  {
   "cell_type": "code",
   "execution_count": 7,
   "metadata": {},
   "outputs": [
    {
     "name": "stdout",
     "output_type": "stream",
     "text": [
      "El mayor es: 8\n"
     ]
    }
   ],
   "source": [
    "# Número mayor\n",
    "txtlista = input('lista separada por \",\":')\n",
    "lista = txtlista.split(',')\n",
    "print('El mayor es:',max(lista))"
   ]
  },
  {
   "cell_type": "code",
   "execution_count": null,
   "metadata": {},
   "outputs": [],
   "source": [
    "#4 Dada una lista, escribe un programa que cuente los valores únicos."
   ]
  },
  {
   "cell_type": "code",
   "execution_count": 16,
   "metadata": {},
   "outputs": [
    {
     "name": "stdout",
     "output_type": "stream",
     "text": [
      "{1, 2, 3, 4, 5} 5\n"
     ]
    }
   ],
   "source": [
    "l1=[1,2,3,4,5,4,3,2,1]\n",
    "s1=set(l1)\n",
    "print (s1,len(s1))"
   ]
  },
  {
   "cell_type": "code",
   "execution_count": 17,
   "metadata": {},
   "outputs": [
    {
     "name": "stdout",
     "output_type": "stream",
     "text": [
      "Número de elementos diferentes: 5\n"
     ]
    }
   ],
   "source": [
    "# Num valores únicos\n",
    "lista = [1, 2, 3, 4, 5, 4, 3, 2, 1]\n",
    "s1 = set(lista)\n",
    "print('Número de elementos diferentes:',len(s1))"
   ]
  },
  {
   "cell_type": "code",
   "execution_count": null,
   "metadata": {},
   "outputs": [],
   "source": [
    "#- Dada una diccionario cualquiera, muestra el valor de la clave en segunda posición."
   ]
  },
  {
   "cell_type": "code",
   "execution_count": 33,
   "metadata": {},
   "outputs": [
    {
     "data": {
      "text/plain": [
       "'lunita'"
      ]
     },
     "execution_count": 33,
     "metadata": {},
     "output_type": "execute_result"
    }
   ],
   "source": [
    "dict1={\"gato1\":\"mimo\", \"gato2\":\"lunita\",\"gato3\":\"desconocido\"}\n",
    "l1=list(dict1.keys())\n",
    "l2=dict1.get(l1[1])\n",
    "l2"
   ]
  },
  {
   "cell_type": "code",
   "execution_count": 31,
   "metadata": {},
   "outputs": [
    {
     "name": "stdout",
     "output_type": "stream",
     "text": [
      "El segundo: 2\n"
     ]
    }
   ],
   "source": [
    "# Valor 2º posicion\n",
    "unDict = {'primero':1, 'segundo': 2, 'tercero':3}\n",
    "claves = list(unDict.keys());\n",
    "segundo = unDict.get(claves[1])\n",
    "print('El segundo:',segundo)"
   ]
  },
  {
   "cell_type": "code",
   "execution_count": null,
   "metadata": {},
   "outputs": [
    {
     "ename": "TypeError",
     "evalue": "'dict_values' object is not subscriptable",
     "output_type": "error",
     "traceback": [
      "\u001b[0;31m---------------------------------------------------------------------------\u001b[0m",
      "\u001b[0;31mTypeError\u001b[0m                                 Traceback (most recent call last)",
      "Cell \u001b[0;32mIn[40], line 3\u001b[0m\n\u001b[1;32m      1\u001b[0m dict1\u001b[38;5;241m=\u001b[39m{\u001b[38;5;124m\"\u001b[39m\u001b[38;5;124mgato1\u001b[39m\u001b[38;5;124m\"\u001b[39m:\u001b[38;5;241m1\u001b[39m, \u001b[38;5;124m\"\u001b[39m\u001b[38;5;124mgato2\u001b[39m\u001b[38;5;124m\"\u001b[39m:\u001b[38;5;241m2\u001b[39m,\u001b[38;5;124m\"\u001b[39m\u001b[38;5;124mgato3\u001b[39m\u001b[38;5;124m\"\u001b[39m:\u001b[38;5;241m3\u001b[39m}\n\u001b[1;32m      2\u001b[0m l1\u001b[38;5;241m=\u001b[39mdict1\u001b[38;5;241m.\u001b[39mvalues()\n\u001b[0;32m----> 3\u001b[0m l2\u001b[38;5;241m=\u001b[39mdict1\u001b[38;5;241m.\u001b[39mget(\u001b[43ml1\u001b[49m\u001b[43m[\u001b[49m\u001b[38;5;241;43m1\u001b[39;49m\u001b[43m]\u001b[49m)\n\u001b[1;32m      4\u001b[0m l2\n",
      "\u001b[0;31mTypeError\u001b[0m: 'dict_values' object is not subscriptable"
     ]
    }
   ],
   "source": [
    "dict1={\"gato1\":1, \"gato2\":2,\"gato3\":3}\n",
    "l1=dict1.values()\n",
    "l2=dict1.get(l1[1])\n",
    "l2\n"
   ]
  },
  {
   "cell_type": "code",
   "execution_count": 28,
   "metadata": {},
   "outputs": [
    {
     "data": {
      "text/plain": [
       "['primero', 'segundo', 'tercero']"
      ]
     },
     "execution_count": 28,
     "metadata": {},
     "output_type": "execute_result"
    }
   ],
   "source": [
    "# Valor 2º posicion\n",
    "unDict = {'primero':1, 'segundo': 2, 'tercero':3}\n",
    "claves = list(unDict.keys());\n",
    "claves"
   ]
  }
 ],
 "metadata": {
  "kernelspec": {
   "display_name": "Python 3 (ipykernel)",
   "language": "python",
   "name": "python3"
  }
 },
 "nbformat": 4,
 "nbformat_minor": 2
}
