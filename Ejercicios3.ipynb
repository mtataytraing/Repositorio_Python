{
 "cells": [
  {
   "cell_type": "code",
   "execution_count": 1,
   "metadata": {},
   "outputs": [],
   "source": [
    "#- Dada una lista de nombres de alumnos, y otra con las notas cada uno, \n",
    "# genera un diccionario que indique para cada alumno sus notas."
   ]
  },
  {
   "cell_type": "code",
   "execution_count": 2,
   "metadata": {},
   "outputs": [
    {
     "data": {
      "text/plain": [
       "<zip at 0x7fdf73255780>"
      ]
     },
     "execution_count": 2,
     "metadata": {},
     "output_type": "execute_result"
    }
   ],
   "source": [
    "l1=[\"Marta\", \"Paco\", \"Nuria\", \"Fernando\"]\n",
    "l2=[9,7,10,2]\n",
    "dict1=zip(l1,l2)\n",
    "dict1"
   ]
  },
  {
   "cell_type": "code",
   "execution_count": 3,
   "metadata": {},
   "outputs": [
    {
     "data": {
      "text/plain": [
       "{'Marta': 9, 'Paco': 7, 'Nuria': 10, 'Fernando': 2}"
      ]
     },
     "execution_count": 3,
     "metadata": {},
     "output_type": "execute_result"
    }
   ],
   "source": [
    "l1=[\"Marta\", \"Paco\", \"Nuria\", \"Fernando\"]\n",
    "l2=[9,7,10,2]\n",
    "dict1=dict(zip(l1,l2))\n",
    "dict1"
   ]
  },
  {
   "cell_type": "code",
   "execution_count": 4,
   "metadata": {},
   "outputs": [],
   "source": [
    "#Genera una lista de alumnos a partir del diccionario anterior \n",
    "# ordenado por notas descendents. Usar sorted-lambda"
   ]
  },
  {
   "cell_type": "code",
   "execution_count": 10,
   "metadata": {},
   "outputs": [
    {
     "data": {
      "text/plain": [
       "[('Fernando', 2), ('Marta', 9), ('Nuria', 10), ('Paco', 7)]"
      ]
     },
     "execution_count": 10,
     "metadata": {},
     "output_type": "execute_result"
    }
   ],
   "source": [
    "# se crea tupla de pares (no se pueden modificar)\n",
    "dict2=sorted(dict1.items())\n",
    "dict2"
   ]
  },
  {
   "cell_type": "code",
   "execution_count": 6,
   "metadata": {},
   "outputs": [
    {
     "data": {
      "text/plain": [
       "[('Fernando', 2), ('Paco', 7), ('Marta', 9), ('Nuria', 10)]"
      ]
     },
     "execution_count": 6,
     "metadata": {},
     "output_type": "execute_result"
    }
   ],
   "source": [
    "# Para ordenar por valor\n",
    "dict2=sorted(dict1.items(),key=lambda item:item[1])\n",
    "dict2"
   ]
  },
  {
   "cell_type": "code",
   "execution_count": 11,
   "metadata": {},
   "outputs": [
    {
     "data": {
      "text/plain": [
       "[('Fernando', 2), ('Paco', 7), ('Marta', 9), ('Nuria', 10)]"
      ]
     },
     "execution_count": 11,
     "metadata": {},
     "output_type": "execute_result"
    }
   ],
   "source": [
    "# Para ordenar por valor\n",
    "dict2=sorted(dict1.items(),key=lambda x:x[1])\n",
    "dict2"
   ]
  },
  {
   "cell_type": "code",
   "execution_count": 7,
   "metadata": {},
   "outputs": [
    {
     "data": {
      "text/plain": [
       "[('Nuria', 10), ('Marta', 9), ('Paco', 7), ('Fernando', 2)]"
      ]
     },
     "execution_count": 7,
     "metadata": {},
     "output_type": "execute_result"
    }
   ],
   "source": [
    "# Para ordenar por valor decreciente\n",
    "dict2=sorted(dict1.items(),key=lambda item:item[1], reverse=True)\n",
    "dict2"
   ]
  },
  {
   "cell_type": "code",
   "execution_count": 8,
   "metadata": {},
   "outputs": [
    {
     "data": {
      "text/plain": [
       "[('Fernando', 2), ('Marta', 9), ('Nuria', 10), ('Paco', 7)]"
      ]
     },
     "execution_count": 8,
     "metadata": {},
     "output_type": "execute_result"
    }
   ],
   "source": [
    "# Para ordenar por Key\n",
    "dict2=sorted(dict1.items(),key=lambda item:item[0])\n",
    "dict2"
   ]
  }
 ],
 "metadata": {
  "kernelspec": {
   "display_name": "Python 3 (ipykernel)",
   "language": "python",
   "name": "python3"
  }
 },
 "nbformat": 4,
 "nbformat_minor": 2
}
