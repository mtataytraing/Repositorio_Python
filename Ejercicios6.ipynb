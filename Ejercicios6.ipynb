{
 "cells": [
  {
   "cell_type": "code",
   "execution_count": null,
   "metadata": {},
   "outputs": [],
   "source": [
    "## EJERCICIOS 6\n",
    "#Procesa el fichero notas.csv para completarlo con la nota media y varianza de cada alumno, usando funciones estadísticas. \n",
    "# Luego actualiza el fichero original.\n",
    "#+ https://raw.githubusercontent.com/ricardoahumada/pythonfundamentals/refs/heads/main/data/notas.csv"
   ]
  },
  {
   "cell_type": "code",
   "execution_count": null,
   "metadata": {},
   "outputs": [],
   "source": []
  },
  {
   "cell_type": "code",
   "execution_count": null,
   "metadata": {},
   "outputs": [],
   "source": [
    "\n",
    "# Escribe una función que copie el contenido de un archivo textual \"{ruta_a}/sample.txt\" en otro \"{ruta_a}/new.txt\". \n",
    "# Luego muestra el contenido de new.txt línea por línea. P"
   ]
  }
 ],
 "metadata": {
  "kernelspec": {
   "display_name": "Python 3 (ipykernel)",
   "language": "python",
   "name": "python3"
  }
 },
 "nbformat": 4,
 "nbformat_minor": 2
}
