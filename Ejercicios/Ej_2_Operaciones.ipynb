{
 "cells": [
  {
   "cell_type": "code",
   "execution_count": 14,
   "metadata": {},
   "outputs": [],
   "source": [
    " # 1. Escribe un programa que almacene internamente una lista de números, \n",
    " # pida al usuario un número e indique si está en la lista con un True o False."
   ]
  },
  {
   "cell_type": "code",
   "execution_count": 13,
   "metadata": {},
   "outputs": [
    {
     "name": "stdout",
     "output_type": "stream",
     "text": [
      "Enhorabuena!; este número está en la lista\n"
     ]
    }
   ],
   "source": [
    "lista1=[1,5,4,10]\n",
    "n1=int(input(\"Escribe n número\"))\n",
    "if n1 in lista1:\n",
    "    print(\"Enhorabuena!; este número está en la lista\")\n",
    "else:\n",
    "    print (\"Este número no está;vuelve a intentarlo\")"
   ]
  },
  {
   "cell_type": "code",
   "execution_count": 11,
   "metadata": {},
   "outputs": [
    {
     "data": {
      "text/plain": [
       "True"
      ]
     },
     "execution_count": 11,
     "metadata": {},
     "output_type": "execute_result"
    }
   ],
   "source": [
    "# Este ejercicio se hizo antes de utilizar funciones de control\n",
    "l1=[1,2,3,4,5,6]\n",
    "l2=int(input(\"Escribe un número:\"))\n",
    "l2 in l1"
   ]
  },
  {
   "cell_type": "code",
   "execution_count": 18,
   "metadata": {},
   "outputs": [
    {
     "name": "stdout",
     "output_type": "stream",
     "text": [
      "Está: False\n"
     ]
    }
   ],
   "source": [
    "# Solución de Ricardo\n",
    "list1 = [1,2,3,4,5]\n",
    "try:\n",
    "    val = int(input(\"num:\"))\n",
    "    print('Está:',val in list1)\n",
    "except:\n",
    "    print('Debe ser un número!')"
   ]
  },
  {
   "cell_type": "code",
   "execution_count": null,
   "metadata": {},
   "outputs": [],
   "source": [
    "#2 Calcular el sueldo mensual de un operario conociendo la cantidad de horas trabajadas y el valor por hora. \n",
    "# Estos valores se deberán solicitar al usuario."
   ]
  },
  {
   "cell_type": "code",
   "execution_count": null,
   "metadata": {},
   "outputs": [],
   "source": [
    "# Solución con más conocimientos"
   ]
  },
  {
   "cell_type": "code",
   "execution_count": 19,
   "metadata": {},
   "outputs": [
    {
     "name": "stdout",
     "output_type": "stream",
     "text": [
      "el sueldo mensual es: 16000\n"
     ]
    }
   ],
   "source": [
    "horas_totales=int(input(\"Introduce Horas trabajadas en total\"))\n",
    "coste_hora=int(input(\"Introduce el coste/hora\"))\n",
    "sueldo_mensual=coste_hora*horas_totales\n",
    "print (\"el sueldo mensual es:\", sueldo_mensual)"
   ]
  },
  {
   "cell_type": "code",
   "execution_count": 10,
   "metadata": {},
   "outputs": [
    {
     "name": "stdout",
     "output_type": "stream",
     "text": [
      "El sueldo mensual es: 8000\n"
     ]
    }
   ],
   "source": [
    "horas=int(input(\"Indica las horas trabajadas durante el mes\"))\n",
    "horashombre=int(input(\"Indica a continuación el coste/hora\"))\n",
    "Sueldomensual=horas*horashombre\n",
    "print(\"El sueldo mensual es:\", Sueldomensual)"
   ]
  },
  {
   "cell_type": "code",
   "execution_count": 11,
   "metadata": {},
   "outputs": [
    {
     "name": "stdout",
     "output_type": "stream",
     "text": [
      "Sueldo medio mensual: 166.66666666666666\n"
     ]
    }
   ],
   "source": [
    "# Sueldo medio; solución de Ricardo\n",
    "try:\n",
    "    horas = int(input('Horas:'))\n",
    "    pph = float(input('pph:'))\n",
    "    sa = horas * pph\n",
    "    smm = sa / 12\n",
    "    print('Sueldo medio mensual:', smm)\n",
    "except:\n",
    "    print('Deben ser números!')"
   ]
  },
  {
   "cell_type": "code",
   "execution_count": null,
   "metadata": {},
   "outputs": [],
   "source": [
    "#3 Dados N números, separados por \",\" ingresados por el usuario en una sola entrada, \n",
    "# identifica cuál es el mayor de todos."
   ]
  },
  {
   "cell_type": "code",
   "execution_count": 32,
   "metadata": {},
   "outputs": [
    {
     "name": "stdout",
     "output_type": "stream",
     "text": [
      "3 es mayor que 0 ,seguimos iterando\n",
      "8 es mayor que 3 ,seguimos iterando\n",
      "2 no es mayor que 8 ,seguimos iterando\n",
      "10 es mayor que 8 ,seguimos iterando\n",
      "7 no es mayor que 10 ,seguimos iterando\n",
      "El número máximo es: 10\n"
     ]
    }
   ],
   "source": [
    "#Resolución con conocimientos sin input y utilizando else para entender mejor los bucles\n",
    "lista1=[3,8,2,10,7]\n",
    "n0=0\n",
    "for n in lista1:\n",
    "    if n>n0:\n",
    "        print (n,\"es mayor que\",n0,\",seguimos iterando\")\n",
    "        n0=n\n",
    "    else:\n",
    "        print(n,\"no es mayor que\",n0,\",seguimos iterando\")\n",
    "print (\"El número máximo es:\",n0)\n"
   ]
  },
  {
   "cell_type": "code",
   "execution_count": 41,
   "metadata": {},
   "outputs": [
    {
     "name": "stdout",
     "output_type": "stream",
     "text": [
      "3 es mayor que 0 ,seguimos iterando\n",
      "8 es mayor que 3 ,seguimos iterando\n",
      "2 no es mayor que 8 ,seguimos iterando\n",
      "10 es mayor que 8 ,seguimos iterando\n",
      "7 no es mayor que 10 ,seguimos iterando\n",
      "El número máximo es: 10\n"
     ]
    }
   ],
   "source": [
    "#Resolución con conocimientos con input y utilizando else para entender mejor los bucles\n",
    "lista0=input(\"introduce una lista de nº separados por comas\")\n",
    "lista1=[3,8,2,10,7]\n",
    "n0=0\n",
    "for n in lista1:\n",
    "    if n>n0:\n",
    "        print (n,\"es mayor que\",n0,\",seguimos iterando\")\n",
    "        n0=n\n",
    "    else:\n",
    "        print(n,\"no es mayor que\",n0,\",seguimos iterando\")\n",
    "print (\"El número máximo es:\",n0)"
   ]
  },
  {
   "cell_type": "code",
   "execution_count": 53,
   "metadata": {},
   "outputs": [
    {
     "name": "stdout",
     "output_type": "stream",
     "text": [
      "6,9\n",
      "[6, 9]\n"
     ]
    }
   ],
   "source": [
    "#crear una lista con input y convertirlo en valores enteros\n",
    "lista0=(input(\"introduce una lista de nº separados por comas\"))\n",
    "print (lista0)\n",
    "lista1=list(lista0.split(\",\"))\n",
    "lista2= [int(n) for n in lista1]\n",
    "print(lista2)\n"
   ]
  },
  {
   "cell_type": "code",
   "execution_count": 54,
   "metadata": {},
   "outputs": [
    {
     "data": {
      "text/plain": [
       "[5, 6]"
      ]
     },
     "execution_count": 54,
     "metadata": {},
     "output_type": "execute_result"
    }
   ],
   "source": [
    "#crear una lista con input y convertirlo en valores enteros; más sencillo\n",
    "lista0=(input(\"introduce una lista de nº separados por comas\"))\n",
    "lista1=[int(n) for n in lista0.split(\",\")]\n",
    "lista1\n"
   ]
  },
  {
   "cell_type": "code",
   "execution_count": 58,
   "metadata": {},
   "outputs": [
    {
     "name": "stdout",
     "output_type": "stream",
     "text": [
      "[3, 8, 2, 10, 3]\n",
      "3 es mayor que 0 seguimos iterando\n",
      "8 es mayor que 3 seguimos iterando\n",
      "2 no es mayor que 8 seguimos iterando\n",
      "10 es mayor que 8 seguimos iterando\n",
      "3 no es mayor que 10 seguimos iterando\n",
      "hemos terminado la iteranción: 10 es el valor máximo\n"
     ]
    }
   ],
   "source": [
    "#Ejercicio completo\n",
    "lista0=(input(\"introduce una lista de nº separados por comas\"))\n",
    "lista1=[int(n) for n in lista0.split(\",\")]\n",
    "print (lista1)\n",
    "n0=0\n",
    "for n in lista1:\n",
    "    if n>n0:\n",
    "        print(n,\"es mayor que\",n0,\"seguimos iterando\")\n",
    "        n0=n\n",
    "    else:\n",
    "        print(n,\"no es mayor que\",n0, \"seguimos iterando\")\n",
    "print (\"hemos terminado la iteranción:\",n0, \"es el valor máximo\")\n"
   ]
  },
  {
   "cell_type": "code",
   "execution_count": 31,
   "metadata": {},
   "outputs": [
    {
     "name": "stdout",
     "output_type": "stream",
     "text": [
      "6 ['1', ',', '1', '0', ',', '3', ',', '6', '6']\n"
     ]
    }
   ],
   "source": [
    "l1=list(input(\"ingresa numeros\"))\n",
    "print (max(l1),l1)\n",
    "\n"
   ]
  },
  {
   "cell_type": "code",
   "execution_count": 2,
   "metadata": {},
   "outputs": [
    {
     "name": "stdout",
     "output_type": "stream",
     "text": [
      "9 ['1', '2', '44', '9']\n"
     ]
    }
   ],
   "source": [
    "l1=(input(\"ingresa numeros\"))\n",
    "l2=l1.split(\",\")\n",
    "print (max(l2),l2)"
   ]
  },
  {
   "cell_type": "code",
   "execution_count": 7,
   "metadata": {},
   "outputs": [
    {
     "name": "stdout",
     "output_type": "stream",
     "text": [
      "El mayor es: 8\n"
     ]
    }
   ],
   "source": [
    "# Número mayor\n",
    "txtlista = input('lista separada por \",\":')\n",
    "lista = txtlista.split(',')\n",
    "print('El mayor es:',max(lista))"
   ]
  },
  {
   "cell_type": "code",
   "execution_count": null,
   "metadata": {},
   "outputs": [],
   "source": [
    "#4 Dada una lista, escribe un programa que cuente los valores únicos."
   ]
  },
  {
   "cell_type": "code",
   "execution_count": 16,
   "metadata": {},
   "outputs": [
    {
     "name": "stdout",
     "output_type": "stream",
     "text": [
      "{1, 2, 3, 4, 5} 5\n"
     ]
    }
   ],
   "source": [
    "l1=[1,2,3,4,5,4,3,2,1]\n",
    "s1=set(l1)\n",
    "print (s1,len(s1))"
   ]
  },
  {
   "cell_type": "code",
   "execution_count": 17,
   "metadata": {},
   "outputs": [
    {
     "name": "stdout",
     "output_type": "stream",
     "text": [
      "Número de elementos diferentes: 5\n"
     ]
    }
   ],
   "source": [
    "# Num valores únicos\n",
    "lista = [1, 2, 3, 4, 5, 4, 3, 2, 1]\n",
    "s1 = set(lista)\n",
    "print('Número de elementos diferentes:',len(s1))"
   ]
  },
  {
   "cell_type": "code",
   "execution_count": null,
   "metadata": {},
   "outputs": [],
   "source": [
    "#- Dada una diccionario cualquiera, muestra el valor de la clave en segunda posición."
   ]
  },
  {
   "cell_type": "code",
   "execution_count": 62,
   "metadata": {},
   "outputs": [
    {
     "name": "stdout",
     "output_type": "stream",
     "text": [
      "['gato1', 'gato2', 'gato3']\n"
     ]
    },
    {
     "data": {
      "text/plain": [
       "'lunita'"
      ]
     },
     "execution_count": 62,
     "metadata": {},
     "output_type": "execute_result"
    }
   ],
   "source": [
    "dict1={\"gato1\":\"mimo\", \"gato2\":\"lunita\",\"gato3\":\"desconocido\"}\n",
    "l1=list(dict1.keys())\n",
    "l2=dict1.get(l1[1])\n",
    "l2"
   ]
  },
  {
   "cell_type": "code",
   "execution_count": 68,
   "metadata": {},
   "outputs": [
    {
     "name": "stdout",
     "output_type": "stream",
     "text": [
      "gato2\n"
     ]
    },
    {
     "data": {
      "text/plain": [
       "'lunita'"
      ]
     },
     "execution_count": 68,
     "metadata": {},
     "output_type": "execute_result"
    }
   ],
   "source": [
    "dict1={\"gato1\":\"mimo\", \"gato2\":\"lunita\",\"gato3\":\"desconocido\"}\n",
    "l1=list(dict1)[1]\n",
    "print(l1)\n",
    "l2=dict1.get(l1)\n",
    "l2"
   ]
  },
  {
   "cell_type": "code",
   "execution_count": 101,
   "metadata": {},
   "outputs": [
    {
     "name": "stdout",
     "output_type": "stream",
     "text": [
      "[('gato1', 'mimo'), ('gato2', 'lunita'), ('gato3', 'desconocido')]\n",
      "lunita\n",
      "no se ha encontrado\n"
     ]
    }
   ],
   "source": [
    "#los diccionarios, mejor con tuplas, no?\n",
    "dict1={\"gato1\":\"mimo\", \"gato2\":\"lunita\",\"gato3\":\"desconocido\"}\n",
    "l1=list(dict1.items())\n",
    "print(l1)\n",
    "for clave, valor in l1:\n",
    "    if clave==\"gato2\":\n",
    "        print (valor)\n",
    "        break\n",
    "print(\"no se ha encontrado\")\n",
    "\n",
    "\n"
   ]
  },
  {
   "cell_type": "code",
   "execution_count": 98,
   "metadata": {},
   "outputs": [
    {
     "name": "stdout",
     "output_type": "stream",
     "text": [
      "[('gato1', 'mimo'), ('gato2', 'lunita'), ('gato3', 'desconocido')]\n",
      "no se ha encontrado\n"
     ]
    }
   ],
   "source": [
    "#los diccionarios, mejor con tuplas, no?\n",
    "dict1={\"gato1\":\"mimo\", \"gato2\":\"lunita\",\"gato3\":\"desconocido\"}\n",
    "l1=list(dict1.items())\n",
    "print(l1)\n",
    "for clave, valor in l1:\n",
    "    if clave==\"gato4\":\n",
    "        print (valor)\n",
    "        break\n",
    "else: #else en for es opcional que se ejecuta solo si el bucle completa todas sus iteraciones sin encontrar un break.\n",
    "    print(\"no se ha encontrado\")"
   ]
  },
  {
   "cell_type": "code",
   "execution_count": 31,
   "metadata": {},
   "outputs": [
    {
     "name": "stdout",
     "output_type": "stream",
     "text": [
      "El segundo: 2\n"
     ]
    }
   ],
   "source": [
    "# Valor 2º posicion; Resolución Ricardo\n",
    "unDict = {'primero':1, 'segundo': 2, 'tercero':3}\n",
    "claves = list(unDict.keys());\n",
    "segundo = unDict.get(claves[1])\n",
    "print('El segundo:',segundo)"
   ]
  },
  {
   "cell_type": "code",
   "execution_count": 28,
   "metadata": {},
   "outputs": [
    {
     "data": {
      "text/plain": [
       "['primero', 'segundo', 'tercero']"
      ]
     },
     "execution_count": 28,
     "metadata": {},
     "output_type": "execute_result"
    }
   ],
   "source": [
    "# Valor 2º posicion\n",
    "unDict = {'primero':1, 'segundo': 2, 'tercero':3}\n",
    "claves = list(unDict.keys());\n",
    "claves"
   ]
  },
  {
   "cell_type": "code",
   "execution_count": 107,
   "metadata": {},
   "outputs": [
    {
     "name": "stdout",
     "output_type": "stream",
     "text": [
      "no está en la lista\n"
     ]
    }
   ],
   "source": [
    "# Copilot: Buscar un número específico en una lista y determinar si está presente o no.\n",
    "l1=[9,5,8,3,20,47]\n",
    "for n in l1:\n",
    "    if n==90:\n",
    "        print (\"el número está en la lista\",n)\n",
    "        break\n",
    "else:\n",
    "    print(\"no está en la lista\")   "
   ]
  }
 ],
 "metadata": {
  "kernelspec": {
   "display_name": "Python 3 (ipykernel)",
   "language": "python",
   "name": "python3"
  }
 },
 "nbformat": 4,
 "nbformat_minor": 2
}
