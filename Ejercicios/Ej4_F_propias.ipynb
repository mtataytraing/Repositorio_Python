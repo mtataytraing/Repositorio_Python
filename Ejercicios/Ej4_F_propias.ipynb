{
 "cells": [
  {
   "cell_type": "code",
   "execution_count": null,
   "metadata": {},
   "outputs": [],
   "source": [
    "#Genera un programa que encuentre el mayor de 3 números en tres variables, \n",
    "# usando solo if-elif-else"
   ]
  },
  {
   "cell_type": "code",
   "execution_count": 15,
   "metadata": {},
   "outputs": [
    {
     "name": "stdout",
     "output_type": "stream",
     "text": [
      "90 n3 es el mayor\n"
     ]
    }
   ],
   "source": [
    "n1=7\n",
    "n2=10\n",
    "n3=90\n",
    "if n1>n2 and n1>n3:\n",
    "    print (n1, \"n1 es el mayor\")\n",
    "elif n1<=n2 and n2>n3:\n",
    "    print (n2,\"n2 es el mayor\")\n",
    "else:\n",
    "    print (n3,\"n3 es el mayor\")\n"
   ]
  },
  {
   "cell_type": "code",
   "execution_count": null,
   "metadata": {},
   "outputs": [],
   "source": [
    "# Extiende la lógica anterior para una lista de números"
   ]
  },
  {
   "cell_type": "code",
   "execution_count": 2,
   "metadata": {},
   "outputs": [
    {
     "name": "stdout",
     "output_type": "stream",
     "text": [
      "50\n"
     ]
    }
   ],
   "source": [
    "l1=[10,3,50,2]\n",
    "cont=0\n",
    "for x in l1:\n",
    "    if x>cont:\n",
    "        cont=x\n",
    "print (cont)"
   ]
  },
  {
   "cell_type": "code",
   "execution_count": null,
   "metadata": {},
   "outputs": [],
   "source": [
    "#- Extendiende la lógica antarior para un diccionario: {'john':4, 'Anna': 7, 'Peter': 1, 'Riga': 9}"
   ]
  },
  {
   "cell_type": "code",
   "execution_count": 8,
   "metadata": {},
   "outputs": [
    {
     "data": {
      "text/plain": [
       "[('john', 4), ('Anna', 7), ('Peter', 1), ('Riga', 9)]"
      ]
     },
     "execution_count": 8,
     "metadata": {},
     "output_type": "execute_result"
    }
   ],
   "source": [
    "dict1={'john':4, 'Anna': 7, 'Peter': 1, 'Riga': 9}\n",
    "l1=list(dict1.items())\n",
    "l1"
   ]
  },
  {
   "cell_type": "code",
   "execution_count": 4,
   "metadata": {},
   "outputs": [
    {
     "name": "stdout",
     "output_type": "stream",
     "text": [
      "[('john', 4), ('Anna', 7), ('Peter', 11), ('Riga', 10)]\n",
      "11\n"
     ]
    }
   ],
   "source": [
    "dict1={'john':4, 'Anna': 7, 'Peter': 11, 'Riga': 10}\n",
    "l1=list(dict1.items()) #pasarlo por tuplas\n",
    "print(l1)\n",
    "cont=0\n",
    "for n,m in l1:\n",
    "    if m>cont:\n",
    "       cont=m\n",
    "print (cont)  # Esto imprimirá el valor máximo encontrado en el bucle; no poner print (m)"
   ]
  },
  {
   "cell_type": "code",
   "execution_count": 6,
   "metadata": {},
   "outputs": [
    {
     "name": "stdout",
     "output_type": "stream",
     "text": [
      "[4, 7, 11, 10]\n",
      "11\n"
     ]
    }
   ],
   "source": [
    "# sin pasarlo por tuplas, haciendo lista de los valores:\n",
    "dict1={'john':4, 'Anna': 7, 'Peter': 11, 'Riga': 10}\n",
    "l1=list(dict1.values()) #pasarlo por lista de valores\n",
    "print(l1)\n",
    "cont=0\n",
    "for m in l1:\n",
    "    if m>cont:\n",
    "       cont=m\n",
    "print (cont)  # Esto imprimirá el valor máximo encontrado en el bucle; no poner print (m)"
   ]
  },
  {
   "cell_type": "code",
   "execution_count": null,
   "metadata": {},
   "outputs": [],
   "source": [
    "#- La fiesta VIP de John\n",
    "#John desea realizar una fiesta VIP; pero el año anterior una persona se coló utilizando el mismo nombre de otra. \n",
    "#Y por eso John ha decidido este año que el portero pida el número de documento.\n",
    "#El programa deberá tener una lista de dnis aprobados. \n",
    "#El portero deberá poder introducir el número de documento de quien solicita entrar a la fiesta y comprobar si existe en la lista. \n",
    "#Si está, se muestra un PERMITIDO ENTRAR. Luego debe mostrar cuántas personas de la lista quedan por entrar.\n",
    "#Si no está en la lista, deberá indicar NO PERMITIDO y seguir esperando un nuevo documento.\n",
    "#Cuando se complete la lista, seberá indicar COMPLETADO y salir.\n",
    "#La lista, una vez definida por John, no debe poder modificarse durante el proceso."
   ]
  },
  {
   "cell_type": "code",
   "execution_count": 10,
   "metadata": {},
   "outputs": [
    {
     "name": "stdout",
     "output_type": "stream",
     "text": [
      "1 NO PERMITIDO ;quedan 4 potr entrar\n",
      "2 NO PERMITIDO ;quedan 4 potr entrar\n",
      "d1 PERMITIDO ENTRAR\n",
      "quedan 3 por entrar\n",
      "d2 PERMITIDO ENTRAR\n",
      "quedan 2 por entrar\n",
      "d3 PERMITIDO ENTRAR\n",
      "quedan 1 por entrar\n",
      "3 NO PERMITIDO ;quedan 1 potr entrar\n",
      "d4 PERMITIDO ENTRAR\n",
      "quedan 0 por entrar\n",
      "ENTRADA COMPLETADA\n"
     ]
    }
   ],
   "source": [
    "dni_aprob=[\"d1\", \"d2\",\"d3\", \"d4\"]\n",
    "dni_mutable=dni_aprob\n",
    "cont_quedan=len(dni_aprob)\n",
    "while cont_quedan>0:\n",
    "    dni_entrante=input(\"intoduce número de dni\")\n",
    "    if dni_entrante in dni_aprob:\n",
    "        print (dni_entrante, \"PERMITIDO ENTRAR\")\n",
    "        dni_mutable.remove(dni_entrante)\n",
    "        cont_quedan=len(dni_mutable)\n",
    "        print(\"quedan\",cont_quedan,\"por entrar\")\n",
    "    else: print (dni_entrante, \"NO PERMITIDO\", \";quedan\", cont_quedan,\"potr entrar\")\n",
    "    if cont_quedan==0:\n",
    "        print (\"ENTRADA COMPLETADA\")\n",
    "\n",
    "\n",
    "\n",
    "\n",
    "\n",
    "\n"
   ]
  },
  {
   "cell_type": "code",
   "execution_count": 11,
   "metadata": {},
   "outputs": [
    {
     "name": "stdout",
     "output_type": "stream",
     "text": [
      "NO PERMITIDO: 1\n",
      "NO PERMITIDO: 2\n",
      "PERMITIDO ENTRAR: d1\n",
      "Quedan: 3\n",
      "PERMITIDO ENTRAR: d2\n",
      "Quedan: 2\n",
      "PERMITIDO ENTRAR: d3\n",
      "Quedan: 1\n",
      "NO PERMITIDO: 3\n",
      "PERMITIDO ENTRAR: d4\n",
      "COMPLETADO\n"
     ]
    }
   ],
   "source": [
    "# SOLUCIÓN rICARDO\n",
    "dnis = ('d1','d2','d3','d4')\n",
    "mutable_dnis = list(dnis)\n",
    "quedan = len(dnis)\n",
    "\n",
    "while quedan:\n",
    "    aDni = input('dni?')\n",
    "    \n",
    "    if aDni in mutable_dnis:\n",
    "        print('PERMITIDO ENTRAR:', aDni)\n",
    "        mutable_dnis.remove(aDni)\n",
    "        quedan = len(mutable_dnis)\n",
    "\n",
    "        if quedan:\n",
    "            print('Quedan:', quedan)\n",
    "        else:\n",
    "            print('COMPLETADO')\n",
    "            \n",
    "    else:\n",
    "        print('NO PERMITIDO:', aDni)"
   ]
  },
  {
   "cell_type": "code",
   "execution_count": 10,
   "metadata": {},
   "outputs": [
    {
     "name": "stdout",
     "output_type": "stream",
     "text": [
      "<class 'list'>\n",
      "<class 'list'>\n"
     ]
    }
   ],
   "source": [
    "dni_aprob=[\"12R\", \"15T\",\"18I\", \"80P\"]\n",
    "copia_dni=dni_aprob\n",
    "print(type(dni_aprob))\n",
    "print(type(copia_dni))\n",
    "cont_quedan=len(dni_aprob)"
   ]
  },
  {
   "cell_type": "code",
   "execution_count": null,
   "metadata": {},
   "outputs": [
    {
     "name": "stdout",
     "output_type": "stream",
     "text": [
      "no permitido, se está colando\n"
     ]
    }
   ],
   "source": [
    "dni_aprob=[\"12R\", \"15T\",\"18I\", \"80P\"]\n",
    "dni=input(\"introduce DNI del asistente:\")\n",
    "if dni in dni_aprob:\n",
    "    print(\"acceso permitido\")\n",
    "else:\n",
    "    print (\"no permitido, se está colando\")\n"
   ]
  },
  {
   "cell_type": "code",
   "execution_count": 31,
   "metadata": {},
   "outputs": [
    {
     "name": "stdout",
     "output_type": "stream",
     "text": [
      "no permitido, se está colando\n",
      "no permitido, se está colando\n",
      "no permitido, se está colando\n",
      "no permitido, se está colando\n",
      "3 quedan\n"
     ]
    }
   ],
   "source": [
    "dni_aprob=[\"12R\", \"15T\",\"18I\", \"80P\"]\n",
    "dni=input(\"introduce DNI del asistente:\")\n",
    "#inicializador\n",
    "dni_restantes=len(dni_aprob)\n",
    "dni_restantes -=1\n",
    "for n in dni_aprob:\n",
    "    if dni in dni_aprob:\n",
    "        print(\"acceso permitido\")\n",
    "        break\n",
    "    else:\n",
    "     print (\"no permitido, se está colando\")\n",
    "print (dni_restantes, \"quedan\")"
   ]
  },
  {
   "cell_type": "code",
   "execution_count": null,
   "metadata": {},
   "outputs": [],
   "source": [
    "#- Se tiene una lista de alumnos con sus asignaturas y la nota más alta y nota más baja de cada una. \n",
    "# https://github.com/ricardoahumada/pythonfundamentals/blob/main/data/notas.py\n",
    "\n",
    "#Genera un programa que permita completar y extraer datos estadísticos de la lista de la siguiente manera: \n",
    "\t#1- Completar la nota media de cada alumno por asignatura.\n",
    "   \t\t# Algoritmo 1\n",
    "   \t\t\t#PARA CADA alumno:\n",
    "   \t\t\t\t#PARA CADA asignatura:\n",
    "    \t\t\t\t#calcular nota media\n",
    "       \t\t\t\t\t #añadir el valor al asignatura\n",
    "\t#2- Obtener la media global por asignatura.\n",
    "\t#3- Obtener la media global por alumno.\n",
    "\t#4- Obtener la media global de todos los alumnos.\n",
    "\t#5- Obtener para un alumno determinado, la nota media.\n",
    "\t#6- Obtener los alumnos con una nota media superior o igual a un número dado (5).\n",
    "#Haz que el programa solicite la opción que quieres ejecutar el prompt "
   ]
  },
  {
   "cell_type": "code",
   "execution_count": null,
   "metadata": {},
   "outputs": [],
   "source": [
    "notas = {\n",
    "\"Sosanna\": [{'maths': (4, 3)}, {'lang': (5, 5)}], \n",
    "\"Rosalind\": [{'maths': (8, 6)}, {'lang': (10, 5)}], \n",
    "\"Gaspar\": [{'maths': (1, 6)}, {'lang': (7, 5)}], \n",
    "\"Herve\": [{'maths': (2, 5)}, {'lang': (8, 2)}], \n",
    "\"Jayme\": [{'maths': (5, 1)}, {'lang': (10, 7)}], \n",
    "\"Dasya\": [{'maths': (5, 3)}, {'lang': (8, 2)}], \n",
    "\"Christean\": [{'maths': (2, 10)}, {'lang': (3, 6)}], \n",
    "\"Risa\": [{'maths': (9, 9)}, {'lang': (2, 7)}], \n",
    "\"Florenza\": [{'maths': (10, 6)}, {'lang': (5, 5)}], \n",
    "\"Donella\": [{'maths': (10, 3)}, {'lang': (8, 3)}], \n",
    "\"Cesaro\": [{'maths': (2, 4)}, {'lang': (1, 7)}], \n",
    "\"Beatrisa\": [{'maths': (9, 2)}, {'lang': (1, 5)}], \n",
    "\"Thain\": [{'maths': (1, 7)}, {'lang': (6, 3)}], \n",
    "\"Shaylah\": [{'maths': (6, 7)}, {'lang': (2, 1)}], \n",
    "\"Anne-marie\": [{'maths': (4, 6)}, {'lang': (4, 3)}], \n",
    "\"Swen\": [{'maths': (8, 5)}, {'lang': (7, 6)}], \n",
    "\"Vaclav\": [{'maths': (1, 4)}, {'lang': (9, 10)}], \n",
    "\"Hermine\": [{'maths': (2, 1)}, {'lang': (8, 1)}], \n",
    "\"Sybyl\": [{'maths': (10, 2)}, {'lang': (3, 10)}], \n",
    "\"Ynes\": [{'maths': (6, 10)}, {'lang': (3, 2)}], \n",
    "\"Antonie\": [{'maths': (9, 3)}, {'lang': (4, 9)}], \n",
    "\"Trixie\": [{'maths': (9, 10)}, {'lang': (5, 4)}], \n",
    "\"Mathilde\": [{'maths': (4, 5)}, {'lang': (8, 1)}], \n",
    "\"Merlina\": [{'maths': (6, 8)}, {'lang': (4, 6)}], \n",
    "\"Zared\": [{'maths': (1, 9)}, {'lang': (5, 3)}], \n",
    "\"Brandais\": [{'maths': (3, 3)}, {'lang': (7, 1)}], \n",
    "\"Reggie\": [{'maths': (10, 2)}, {'lang': (10, 8)}], \n",
    "\"Burk\": [{'maths': (8, 7)}, {'lang': (5, 5)}], \n",
    "\"Seymour\": [{'maths': (5, 8)}, {'lang': (8, 3)}], \n",
    "\"Fergus\": [{'maths': (2, 3)}, {'lang': (5, 5)}], \n",
    "\"Jeanette\": [{'maths': (1, 5)}, {'lang': (5, 4)}], \n",
    "\"Arther\": [{'maths': (5, 5)}, {'lang': (9, 5)}], \n",
    "\"Avictor\": [{'maths': (9, 2)}, {'lang': (8, 5)}], \n",
    "\"Lynette\": [{'maths': (7, 2)}, {'lang': (10, 6)}], \n",
    "\"Briano\": [{'maths': (2, 2)}, {'lang': (4, 6)}], \n",
    "\"Daveta\": [{'maths': (4, 7)}, {'lang': (2, 9)}], \n",
    "\"Devonne\": [{'maths': (10, 2)}, {'lang': (6, 8)}], \n",
    "\"Chiarra\": [{'maths': (6, 1)}, {'lang': (4, 3)}], \n",
    "\"Torrey\": [{'maths': (2, 9)}, {'lang': (1, 3)}], \n",
    "\"Hattie\": [{'maths': (2, 5)}, {'lang': (7, 2)}], \n",
    "\"Florenza\": [{'maths': (10, 5)}, {'lang': (4, 4)}], \n",
    "\"Veronica\": [{'maths': (8, 6)}, {'lang': (3, 4)}], \n",
    "\"Jared\": [{'maths': (6, 1)}, {'lang': (1, 3)}], \n",
    "\"Lori\": [{'maths': (6, 1)}, {'lang': (10, 10)}], \n",
    "\"Kristopher\": [{'maths': (1, 2)}, {'lang': (4, 9)}], \n",
    "\"Jeanne\": [{'maths': (1, 1)}, {'lang': (1, 4)}], \n",
    "\"Maximilian\": [{'maths': (3, 3)}, {'lang': (10, 9)}], \n",
    "\"Merrily\": [{'maths': (5, 7)}, {'lang': (1, 3)}], \n",
    "\"Skipton\": [{'maths': (9, 6)}, {'lang': (4, 9)}], \n",
    "\"Tom\": [{'maths': (10, 5)}, {'lang': (1, 7)}], \n",
    "\"Cirilo\": [{'maths': (2, 2)}, {'lang': (6, 6)}], \n",
    "\"Warde\": [{'maths': (8, 7)}, {'lang': (9, 5)}], \n",
    "\"Woodie\": [{'maths': (10, 3)}, {'lang': (2, 1)}], \n",
    "\"Odetta\": [{'maths': (3, 7)}, {'lang': (7, 9)}], \n",
    "\"Cordelie\": [{'maths': (2, 3)}, {'lang': (9, 1)}], \n",
    "\"Wilow\": [{'maths': (10, 8)}, {'lang': (2, 6)}], \n",
    "\"Charissa\": [{'maths': (5, 3)}, {'lang': (5, 10)}], \n",
    "\"Ralina\": [{'maths': (10, 9)}, {'lang': (8, 2)}], \n",
    "\"Charisse\": [{'maths': (6, 5)}, {'lang': (1, 9)}], \n",
    "\"Huntley\": [{'maths': (8, 7)}, {'lang': (10, 3)}], \n",
    "\"Ella\": [{'maths': (4, 3)}, {'lang': (6, 8)}], \n",
    "\"Nelli\": [{'maths': (2, 6)}, {'lang': (5, 10)}], \n",
    "\"Gearalt\": [{'maths': (4, 9)}, {'lang': (4, 4)}], \n",
    "\"Zahara\": [{'maths': (2, 1)}, {'lang': (1, 4)}], \n",
    "\"Dilan\": [{'maths': (8, 6)}, {'lang': (7, 6)}], \n",
    "\"Frederique\": [{'maths': (5, 10)}, {'lang': (2, 8)}], \n",
    "\"Saba\": [{'maths': (9, 8)}, {'lang': (9, 9)}], \n",
    "\"Natalya\": [{'maths': (1, 5)}, {'lang': (5, 2)}], \n",
    "\"Myrah\": [{'maths': (3, 8)}, {'lang': (3, 5)}], \n",
    "\"Magnum\": [{'maths': (7, 1)}, {'lang': (2, 9)}], \n",
    "\"Grace\": [{'maths': (9, 4)}, {'lang': (6, 6)}], \n",
    "\"Ilysa\": [{'maths': (10, 9)}, {'lang': (8, 8)}], \n",
    "\"Clerkclaude\": [{'maths': (7, 2)}, {'lang': (10, 2)}], \n",
    "\"Yetty\": [{'maths': (8, 6)}, {'lang': (2, 4)}], \n",
    "\"Cassandre\": [{'maths': (6, 1)}, {'lang': (9, 5)}], \n",
    "\"Olympie\": [{'maths': (3, 3)}, {'lang': (10, 3)}], \n",
    "\"Joshuah\": [{'maths': (7, 7)}, {'lang': (9, 2)}], \n",
    "\"Kristine\": [{'maths': (3, 4)}, {'lang': (7, 7)}], \n",
    "\"Dean\": [{'maths': (8, 6)}, {'lang': (10, 10)}], \n",
    "\"Ilyssa\": [{'maths': (9, 7)}, {'lang': (5, 3)}], \n",
    "\"Nannie\": [{'maths': (6, 9)}, {'lang': (2, 10)}], \n",
    "\"Feodor\": [{'maths': (5, 6)}, {'lang': (3, 7)}], \n",
    "\"Guglielma\": [{'maths': (10, 3)}, {'lang': (9, 6)}], \n",
    "\"Alla\": [{'maths': (9, 10)}, {'lang': (7, 7)}], \n",
    "\"Rowland\": [{'maths': (4, 10)}, {'lang': (8, 7)}], \n",
    "\"Miquela\": [{'maths': (7, 5)}, {'lang': (2, 7)}], \n",
    "\"Sapphira\": [{'maths': (4, 6)}, {'lang': (5, 2)}], \n",
    "\"Zorina\": [{'maths': (3, 2)}, {'lang': (4, 9)}], \n",
    "\"Rosemonde\": [{'maths': (10, 6)}, {'lang': (9, 9)}], \n",
    "\"Alisa\": [{'maths': (1, 4)}, {'lang': (9, 5)}], \n",
    "\"Ginger\": [{'maths': (3, 4)}, {'lang': (1, 2)}], \n",
    "\"Karlis\": [{'maths': (9, 8)}, {'lang': (3, 1)}], \n",
    "\"Robbin\": [{'maths': (7, 5)}, {'lang': (10, 8)}], \n",
    "\"Kimberly\": [{'maths': (3, 7)}, {'lang': (8, 1)}], \n",
    "\"Udale\": [{'maths': (7, 1)}, {'lang': (1, 7)}], \n",
    "\"Isidor\": [{'maths': (8, 2)}, {'lang': (6, 3)}], \n",
    "\"Farlee\": [{'maths': (5, 10)}, {'lang': (9, 9)}], \n",
    "\"Katleen\": [{'maths': (8, 6)}, {'lang': (9, 3)}], \n",
    "\"Nanine\": [{'maths': (5, 7)}, {'lang': (9, 9)}], \n",
    "\"Marlow\": [{'maths': (2, 4)}, {'lang': (5, 2)}]\n",
    "}"
   ]
  },
  {
   "cell_type": "code",
   "execution_count": null,
   "metadata": {},
   "outputs": [],
   "source": [
    "notas2= {\n",
    "\"Sosanna\": [{'maths': (4, 3)}, {'lang': (5, 5)}], \n",
    "\"Rosalind\": [{'maths': (8, 6)}, {'lang': (10, 5)}], \n",
    "\"Gaspar\": [{'maths': (1, 6)}, {'lang': (7, 5)}], \n",
    "\"Herve\": [{'maths': (2, 5)}, {'lang': (8, 2)}], \n",
    "\"Jayme\": [{'maths': (5, 1)}, {'lang': (10, 7)}], \n",
    "\"Dasya\": [{'maths': (5, 3)}, {'lang': (8, 2)}], \n",
    "\"Christean\": [{'maths': (2, 10)}, {'lang': (3, 6)}], \n",
    "\"Risa\": [{'maths': (9, 9)}, {'lang': (2, 7)}]}"
   ]
  },
  {
   "cell_type": "code",
   "execution_count": null,
   "metadata": {},
   "outputs": [],
   "source": [
    "# notas2 es un dicc donde cada clave es el nombre de un alumno y el valor asociado es una lista de diccionarios.\n",
    "# Cada dicc en la lista representa una asignatura con sus respectivas notas."
   ]
  },
  {
   "cell_type": "code",
   "execution_count": null,
   "metadata": {},
   "outputs": [],
   "source": [
    "#1- Completar la nota media de cada alumno por asignatura."
   ]
  },
  {
   "cell_type": "code",
   "execution_count": 10,
   "metadata": {},
   "outputs": [
    {
     "name": "stdout",
     "output_type": "stream",
     "text": [
      "Sosanna:\n",
      "  maths: 3.50\n",
      "  lang: 5.00\n",
      "Rosalind:\n",
      "  maths: 7.00\n",
      "  lang: 7.50\n",
      "Gaspar:\n",
      "  maths: 3.50\n",
      "  lang: 6.00\n",
      "Herve:\n",
      "  maths: 3.50\n",
      "  lang: 5.00\n",
      "Jayme:\n",
      "  maths: 3.00\n",
      "  lang: 8.50\n",
      "Dasya:\n",
      "  maths: 4.00\n",
      "  lang: 5.00\n",
      "Christean:\n",
      "  maths: 6.00\n",
      "  lang: 4.50\n",
      "Risa:\n",
      "  maths: 9.00\n",
      "  lang: 4.50\n"
     ]
    }
   ],
   "source": [
    "for alumno in notas2:   # Este bucle for recorre cada clave (nombre del alumno) en el diccionario notas2.\n",
    "    print(f\"{alumno}:\") # f es para crear cadenas strings de objetos de cualquier tipo\n",
    "    for asignatura in notas2[alumno]:  #Este bucle for recorre cada diccionario de asignatura en la lista asociada al alumno actual.\n",
    "        for nombre_asignatura in asignatura: #Este bucle for recorre cada clave (nombre de la asignatura) en el diccionario de asignatura.\n",
    "            notas = asignatura[nombre_asignatura]  #obtiene la tupla de notas para esa asignatura.\n",
    "            media = sum(notas) / len(notas)\n",
    "            print(f\"  {nombre_asignatura}: {media:.2f}\")  #imprime el nombre de la asignatura y la media de las notas con dos decimales."
   ]
  },
  {
   "cell_type": "code",
   "execution_count": null,
   "metadata": {},
   "outputs": [],
   "source": []
  }
 ],
 "metadata": {
  "kernelspec": {
   "display_name": "Python 3.8 - AzureML",
   "language": "python",
   "name": "python38-azureml"
  },
  "language_info": {
   "codemirror_mode": {
    "name": "ipython",
    "version": 3
   },
   "file_extension": ".py",
   "mimetype": "text/x-python",
   "name": "python",
   "nbconvert_exporter": "python",
   "pygments_lexer": "ipython3",
   "version": "3.10.11"
  }
 },
 "nbformat": 4,
 "nbformat_minor": 2
}
