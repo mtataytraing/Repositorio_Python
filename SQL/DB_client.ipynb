{
 "cells": [
  {
   "cell_type": "code",
   "execution_count": 3,
   "metadata": {},
   "outputs": [
    {
     "name": "stdout",
     "output_type": "stream",
     "text": [
      "Database conn successful\n"
     ]
    }
   ],
   "source": [
    "import psycopg2\n",
    "\n",
    "def create_server_connection():\n",
    "\n",
    "    PGHOST='ep-sweet-sound-a2m88zrk.eu-central-1.aws.neon.tech'\n",
    "    PGDATABASE='datafundamentamentals'\n",
    "    PGUSER='datafundamentamentals_owner'\n",
    "    PGPASSWORD='QhJH3pb0gDfv'\n",
    "    conn = None\n",
    "    try:\n",
    "        conn = psycopg2.connect(database=PGDATABASE, user=PGUSER, password=PGPASSWORD, host=PGHOST, port=5432)\n",
    "        print(\"Database conn successful\")\n",
    "    except Error as err:\n",
    "        print(f\"Error: '{err}'\")\n",
    "\n",
    "    return conn\n",
    "\n",
    "connection = create_server_connection()\n",
    "connection.close()\n",
    "\n"
   ]
  }
 ],
 "metadata": {
  "kernelspec": {
   "display_name": "Python 3.8 - AzureML",
   "language": "python",
   "name": "python38-azureml"
  }
 },
 "nbformat": 4,
 "nbformat_minor": 2
}
